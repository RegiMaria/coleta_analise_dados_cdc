{
 "cells": [
  {
   "cell_type": "code",
   "execution_count": null,
   "id": "e788b6a9-1f2c-4c06-9493-9bc82e45f26a",
   "metadata": {},
   "outputs": [],
   "source": [
    "from selenium import webdriver\n",
    "from selenium.webdriver.common.by import By\n",
    "import time"
   ]
  },
  {
   "cell_type": "code",
   "execution_count": null,
   "id": "d1de8d96-6438-4614-8869-93fef6b252e3",
   "metadata": {},
   "outputs": [],
   "source": [
    "driver = webdriver.Chrome()\n",
    "driver.get('https://stacks.cdc.gov/view/cdc/124397')\n",
    "#Waiting for the page to load:\n",
    "time.sleep(1)\n",
    "\n",
    "#Locate the download button by its ID:\n",
    "download_button = driver.find_element(By.ID, 'download-document-submit')\n",
    "\n",
    "#Click the button to initiate the download:\n",
    "download_button.click()\n",
    "\n",
    "#Wait for 2 seconds to allow the download:\n",
    "time.sleep(2)\n",
    "\n",
    "\n",
    "driver.quit()"
   ]
  }
 ],
 "metadata": {
  "kernelspec": {
   "display_name": "Python 3 (ipykernel)",
   "language": "python",
   "name": "python3"
  },
  "language_info": {
   "codemirror_mode": {
    "name": "ipython",
    "version": 3
   },
   "file_extension": ".py",
   "mimetype": "text/x-python",
   "name": "python",
   "nbconvert_exporter": "python",
   "pygments_lexer": "ipython3",
   "version": "3.11.5"
  }
 },
 "nbformat": 4,
 "nbformat_minor": 5
}
